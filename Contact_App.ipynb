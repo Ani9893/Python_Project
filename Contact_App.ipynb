{
  "cells": [
    {
      "cell_type": "markdown",
      "metadata": {
        "id": "IOoM9hmosQAX"
      },
      "source": [
        "# Contact app\n",
        "\n",
        "You have learnt a lot of new things; data structures, string, regex & files. Lets use all our newly acquired knowledge to build a **contact app**, just like the ones in our smartphone.\n",
        "\n",
        "We will not be building a fancy UI, instead we will focus on understanding the programming logic.\n",
        "\n",
        "Lets get started!\n",
        "\n",
        "Think of all the features that your contact app has . . . !\n",
        "- It can show you all the contact names\n",
        "- You can search for contacts (using name)\n",
        "- You can see all the information associated with the contact\n",
        "- You can delete and update contacts\n",
        "\n",
        "Can you think of anything more ? Our contact app should have at least these features.\n",
        "- The app should show us all the contact names\n",
        "- It should allow us to select a contact and view all the information associated with the contact\n",
        "- It should allow us to update contact info & delete contact\n",
        "- Finally, it should show us all the contact names\n",
        "\n",
        "For every contact, we will store the `name`, `number` & `email`."
      ]
    },
    {
      "cell_type": "markdown",
      "metadata": {
        "id": "VwohnvD-sQAa"
      },
      "source": [
        "### Data Structure\n",
        "The very first thing that we need to decide is \"What data structure to use?\"\n",
        "\n",
        "To store all the contacts, we can use a list of dictionaries; were each dictionary stores the `name`, `number` & `email`  of the contact.\n",
        "\n",
        "Create a list of dictionaries called `contacts` with 3 dummy contacts.  "
      ]
    },
    {
      "cell_type": "code",
      "execution_count": null,
      "metadata": {
        "id": "CCnc9JsksQAb"
      },
      "outputs": [],
      "source": [
        "contacts = [{'name': 'Aniruddh', 'number': '123456789', 'email': 'aniruddh@gmail.com'},\n",
        "            {'name':'Anand', 'number': '987654321', 'email': 'anand@gmail.com'},\n",
        "            {'name': 'Parth', 'number': '700070001', 'email': 'parth@gmail.com'}]"
      ]
    },
    {
      "cell_type": "markdown",
      "metadata": {
        "id": "ioSPVb0vsQAc"
      },
      "source": [
        "### List all contact names\n",
        "Write `show_contacts` function that takes the `contacts` list and prints all the contact names. These names will help us to select the contact later."
      ]
    },
    {
      "cell_type": "code",
      "execution_count": null,
      "metadata": {
        "id": "L_ce398CsQAc"
      },
      "outputs": [],
      "source": [
        "def show_contacts(contacts):\n",
        "    for contact in contacts:\n",
        "        print(contact['name'])"
      ]
    },
    {
      "cell_type": "code",
      "execution_count": null,
      "metadata": {
        "colab": {
          "base_uri": "https://localhost:8080/"
        },
        "id": "U1CY267TsQAc",
        "outputId": "8d52caee-d5ec-43bf-c6d3-8bef7eb97d2e"
      },
      "outputs": [
        {
          "output_type": "stream",
          "name": "stdout",
          "text": [
            "Aniruddh\n",
            "Anand\n",
            "Parth\n"
          ]
        }
      ],
      "source": [
        "show_contacts(contacts)"
      ]
    },
    {
      "cell_type": "markdown",
      "metadata": {
        "id": "GrOeYSQksQAc"
      },
      "source": [
        "### Add a new Contact\n",
        "\n",
        "Write `add_contact` function that takes user input and *adds new contact* dictionary to the existing list of `contacts`."
      ]
    },
    {
      "cell_type": "code",
      "execution_count": null,
      "metadata": {
        "id": "0J5_d-qesQAc"
      },
      "outputs": [],
      "source": [
        "def add_contact(contacts):\n",
        "  name = input('Enter name: ')\n",
        "  number = input('Enter number: ')\n",
        "  email = input('Enter email: ')\n",
        "  new_contact = {'name': name, 'number': number, 'email': email}\n",
        "  contacts.append(new_contact)\n",
        "  print(contacts)"
      ]
    },
    {
      "cell_type": "code",
      "execution_count": null,
      "metadata": {
        "colab": {
          "base_uri": "https://localhost:8080/"
        },
        "id": "xGESkPlPsQAd",
        "outputId": "7ab8b98c-abec-4139-c917-3a187a9ca197"
      },
      "outputs": [
        {
          "output_type": "stream",
          "name": "stdout",
          "text": [
            "Enter name: Romil\n",
            "Enter number: 89465123\n",
            "Enter email: romil@gmail.com\n",
            "[{'name': 'Aniruddh', 'number': '123456789', 'email': 'aniruddh@gmail.com'}, {'name': 'Anand', 'number': '987654321', 'email': 'anand@gmail.com'}, {'name': 'Parth', 'number': '700070001', 'email': 'parth@gmail.com'}, {'name': 'Romil', 'number': '89465123', 'email': 'romil@gmail.com'}]\n"
          ]
        }
      ],
      "source": [
        "add_contact(contacts)"
      ]
    },
    {
      "cell_type": "markdown",
      "metadata": {
        "id": "qTkLJH2rsQAd"
      },
      "source": [
        "### Delete Contact\n",
        "\n",
        "Write `delete_contact` function to delete an existing contact by providing `name` of the contact which we want to delete."
      ]
    },
    {
      "cell_type": "code",
      "source": [
        "def delete_contact(contacts):\n",
        "  delete = input(\"Enter a name : \")\n",
        "  for contact in contacts:\n",
        "    if contact['name'] == delete:\n",
        "       contacts.remove(contact)\n",
        "       return contacts"
      ],
      "metadata": {
        "id": "PxJdLA82gT5z"
      },
      "execution_count": null,
      "outputs": []
    },
    {
      "cell_type": "code",
      "execution_count": null,
      "metadata": {
        "id": "zkGwQdv7sQAd",
        "colab": {
          "base_uri": "https://localhost:8080/"
        },
        "outputId": "806012e3-f45f-493e-9011-96d0e4dd076c"
      },
      "outputs": [
        {
          "name": "stdout",
          "output_type": "stream",
          "text": [
            "Enter a name : Romil\n"
          ]
        },
        {
          "output_type": "execute_result",
          "data": {
            "text/plain": [
              "[{'name': 'Aniruddh', 'number': '123456789', 'email': 'aniruddh@gmail.com'},\n",
              " {'name': 'Anand', 'number': '987654321', 'email': 'anand@gmail.com'},\n",
              " {'name': 'Parth', 'number': '700070001', 'email': 'parth@gmail.com'}]"
            ]
          },
          "metadata": {},
          "execution_count": 7
        }
      ],
      "source": [
        "delete_contact(contacts)"
      ]
    },
    {
      "cell_type": "markdown",
      "metadata": {
        "id": "j43YswfisQAd"
      },
      "source": [
        "### Update Contact details\n",
        "\n",
        "Let's write `update_contact` function which will *update contact details* such as `name`, `email` & `number`.\n",
        "The functions should take `contacts` and `name` as arguments. It should also print the newly added contact."
      ]
    },
    {
      "cell_type": "code",
      "source": [
        "def update_contact(contacts, name):\n",
        "  for contact in contacts:\n",
        "    if contact['name'] == name:\n",
        "       contact['name'] = input('Enter new name: ')\n",
        "       contact['number'] = input('Enter new number: ')\n",
        "       contact['email'] = input('Enter new email: ')\n",
        "       print(contact)"
      ],
      "metadata": {
        "id": "lyFod-K77lH-"
      },
      "execution_count": null,
      "outputs": []
    },
    {
      "cell_type": "code",
      "execution_count": null,
      "metadata": {
        "id": "v858Ol9qsQAe",
        "colab": {
          "base_uri": "https://localhost:8080/"
        },
        "outputId": "e4fad4fc-c738-4651-babc-2a4770c6d59d"
      },
      "outputs": [
        {
          "output_type": "stream",
          "name": "stdout",
          "text": [
            "Enter new name: Devansh\n",
            "Enter new number: 949865416\n",
            "Enter new email: devansh@gmail.com\n",
            "{'name': 'Devansh', 'number': '949865416', 'email': 'devansh@gmail.com'}\n"
          ]
        }
      ],
      "source": [
        "update_contact(contacts, 'Anand')"
      ]
    },
    {
      "cell_type": "markdown",
      "metadata": {
        "id": "FkOg9sHSsQAe"
      },
      "source": [
        "### Open Contact\n",
        "`open_contact` function takes the `contacts` list and a `name` string as input. It prints the contact details if `name` matches some contact name in the `contacts` list, else prints `No match found!`.\n",
        "\n",
        "**Note:** The functions should be case insensitive."
      ]
    },
    {
      "cell_type": "code",
      "source": [
        "def open_contact(contacts, name):\n",
        "  for contact in contacts:\n",
        "    if contact['name'].lower() == name.lower():\n",
        "      print(contact)\n",
        "    else:\n",
        "      print('No match found!')"
      ],
      "metadata": {
        "id": "HvTHkFe3XNt4"
      },
      "execution_count": null,
      "outputs": []
    },
    {
      "cell_type": "code",
      "source": [
        "open_contact(contacts, 'Aniruddh')"
      ],
      "metadata": {
        "colab": {
          "base_uri": "https://localhost:8080/"
        },
        "id": "q4to_hD-XP-a",
        "outputId": "386d5f26-4199-4e6b-94ed-569f1451b61f"
      },
      "execution_count": null,
      "outputs": [
        {
          "output_type": "stream",
          "name": "stdout",
          "text": [
            "{'name': 'Aniruddh', 'number': '123456789', 'email': 'aniruddh@gmail.com'}\n",
            "No match found!\n",
            "No match found!\n"
          ]
        }
      ]
    },
    {
      "cell_type": "markdown",
      "metadata": {
        "id": "zF4sBMNesQAf"
      },
      "source": [
        "We often see *update* & *delete* options after we open a particular contact. It would be great if we can also implement the same.\n",
        "\n",
        "After opening the contact, the program should wait for user input. The user can press `u` to update & `d` delete contact. Any other key press should be ignored\n",
        "\n",
        "Write the updated `open_contact` function below"
      ]
    },
    {
      "cell_type": "code",
      "source": [
        "while True:\n",
        "  open = input(\"press u for updates & press d for delete contact :- \")\n",
        "  if open == 'u':\n",
        "    update_contact(contacts, 'Parth')\n",
        "  elif open == 'd':\n",
        "    delete_contact(contacts)\n",
        "    print(contacts)\n",
        "    break"
      ],
      "metadata": {
        "colab": {
          "base_uri": "https://localhost:8080/"
        },
        "id": "19nleNIhYgII",
        "outputId": "7819f261-b58f-4189-8fbe-5f347137823e"
      },
      "execution_count": null,
      "outputs": [
        {
          "output_type": "stream",
          "name": "stdout",
          "text": [
            "press u for updates & press d for delete contact :- u\n",
            "Enter new name: Parth Surat\n",
            "Enter new number: 4984165186\n",
            "Enter new email: parth@outlook.com\n",
            "{'name': 'Parth Surat', 'number': '4984165186', 'email': 'parth@outlook.com'}\n",
            "press u for updates & press d for delete contact :- d\n",
            "Enter a name : Parth Surat\n",
            "[{'name': 'Aniruddh', 'number': '123456789', 'email': 'aniruddh@gmail.com'}, {'name': 'Devansh', 'number': '949865416', 'email': 'devansh@gmail.com'}]\n"
          ]
        }
      ]
    },
    {
      "cell_type": "markdown",
      "metadata": {
        "id": "3yepc6_CsQAf"
      },
      "source": [
        "### Complete application (using all the above functions in use)\n",
        "\n",
        "We will use an infinite loop to encapsulate our application logic and break only when `q` is pressed. We will use `clear_output()` function from `IPython.display` to clear the output before printing anything new.\n",
        "\n",
        "Below is the pseudo-code to help you build the application logic."
      ]
    },
    {
      "cell_type": "code",
      "execution_count": null,
      "metadata": {
        "id": "Vhta6hDUsQAf",
        "colab": {
          "base_uri": "https://localhost:8080/"
        },
        "outputId": "eed29993-89dd-4d50-9b0b-1d5bbeaa5507"
      },
      "outputs": [
        {
          "name": "stdout",
          "output_type": "stream",
          "text": [
            "Enter name: s\n",
            "Enter number: Devansh\n",
            "Enter email: 9846516986\n",
            "[{'name': 'Aniruddh', 'number': '123456789', 'email': 'aniruddh@gmail.com'}, {'name': 'Devansh', 'number': '949865416', 'email': 'devansh@gmail.com'}, {'name': 's', 'number': 'Devansh', 'email': '9846516986'}]\n",
            "Press 'a' - add contact, 'o' - open contact, 's' - search contact, 'q' - quit :- q\n"
          ]
        }
      ],
      "source": [
        "from IPython.display import clear_output\n",
        "\n",
        "while True:\n",
        "\n",
        "    ## show all contacts\n",
        "    add_contact(contacts)\n",
        "    action = input(\"Press 'a' - add contact, 'o' - open contact, 's' - search contact, 'q' - quit :- \")\n",
        "    if action == 'a':\n",
        "      add_contact(contacts)\n",
        "        ## add contact\n",
        "\n",
        "    elif action == 'o':\n",
        "        name = input(\"Enter name of the contact you want to open. \")\n",
        "        ## open contact\n",
        "        open_contact(contacts, 'Anand')\n",
        "\n",
        "    elif action == 'q':\n",
        "        ## break\n",
        "          break\n",
        "    else:\n",
        "        ## print incorrect choice\n",
        "        print('incorrect choice')"
      ]
    },
    {
      "cell_type": "code",
      "source": [
        "contacts = [{'name': 'Aniruddh', 'number': '123456789', 'email': 'aniruddh@gmail.com'},\n",
        "            {'name':'Anand', 'number': '987654321', 'email': 'anand@gmail.com'},\n",
        "            {'name': 'Parth', 'number': '700070001', 'email': 'parth@gmail.com'}]\n",
        "def show_contacts(contacts):\n",
        "    for contact in contacts:\n",
        "        print(contact['name'])\n",
        "show_contacts(contacts)\n",
        "\n",
        "def add_contact(contacts):\n",
        "  name = input('Enter name: ')\n",
        "  number = input('Enter number: ')\n",
        "  email = input('Enter email: ')\n",
        "  new_contact = {'name': name, 'number': number, 'email': email}\n",
        "  contacts.append(new_contact)\n",
        "  print(contacts)\n",
        "add_contact(contacts)\n",
        "\n",
        "def delete_contact(contacts):\n",
        "  delete = input(\"Enter a name : \")\n",
        "  for contact in contacts:\n",
        "    if contact['name'] == delete:\n",
        "       contacts.remove(contact)\n",
        "       return contacts\n",
        "delete_contact(contacts)\n",
        "\n",
        "def update_contact(contacts, name):\n",
        "  for contact in contacts:\n",
        "    if contact['name'] == name:\n",
        "      contact['name'] = input('Enter new name: ')\n",
        "      contact['number'] = input('Enter new number: ')\n",
        "      contact['email'] = input('Enter new email: ')\n",
        "      print(contact)\n",
        "update_contact(contacts, 'Anand')\n",
        "\n",
        "def open_contact(contacts, name):\n",
        "  for contact in contacts:\n",
        "    if contact['name'].lower() == name.lower():\n",
        "      print(contact)\n",
        "    else:\n",
        "      print('No match found!')\n",
        "open_contact(contacts, 'Aniruddh')\n",
        "\n",
        "while True:\n",
        "  open = input(\"press u for updates & press d for delete contact :- \")\n",
        "  if open == 'u':\n",
        "    update_contact(contacts, 'Parth')\n",
        "  elif open == 'd':\n",
        "    delete_contact(contacts)\n",
        "    print(contacts)\n",
        "    break\n",
        "\n",
        "while True:\n",
        "\n",
        "    ## show all contacts\n",
        "    add_contact(contacts)\n",
        "    action = input(\"Press 'a' - add contact, 'o' - open contact, 's' - search contact, 'q' - quit :- \")\n",
        "    if action == 'a':\n",
        "      add_contact(contacts)\n",
        "        ## add contact\n",
        "\n",
        "    elif action == 'o':\n",
        "        name = input(\"Enter name of the contact you want to open. \")\n",
        "        ## open contact\n",
        "        open_contact(contacts, 'Anand')\n",
        "\n",
        "    elif action == 'q':\n",
        "        ## break\n",
        "          break\n",
        "    else:\n",
        "        ## print incorrect choice\n",
        "        print('incorrect choice')"
      ],
      "metadata": {
        "colab": {
          "base_uri": "https://localhost:8080/"
        },
        "id": "bWUPvaN7FtjH",
        "outputId": "ec9f4213-ba36-4495-d883-e8214861854e"
      },
      "execution_count": null,
      "outputs": [
        {
          "name": "stdout",
          "output_type": "stream",
          "text": [
            "Aniruddh\n",
            "Anand\n",
            "Parth\n",
            "Enter name: Romil\n",
            "Enter number: 7896541230\n",
            "Enter email: romil@gmail.com\n",
            "[{'name': 'Aniruddh', 'number': '123456789', 'email': 'aniruddh@gmail.com'}, {'name': 'Anand', 'number': '987654321', 'email': 'anand@gmail.com'}, {'name': 'Parth', 'number': '700070001', 'email': 'parth@gmail.com'}, {'name': 'Romil', 'number': '7896541230', 'email': 'romil@gmail.com'}]\n",
            "Enter a name : Romil\n",
            "Enter new name: Devansh\n",
            "Enter new number: 8085986511\n",
            "Enter new email: devansh@outlook.com\n",
            "{'name': 'Devansh', 'number': '8085986511', 'email': 'devansh@outlook.com'}\n",
            "{'name': 'Aniruddh', 'number': '123456789', 'email': 'aniruddh@gmail.com'}\n",
            "No match found!\n",
            "No match found!\n",
            "press u for updates & press d for delete contact :- d\n",
            "Enter a name : Anand\n",
            "[{'name': 'Aniruddh', 'number': '123456789', 'email': 'aniruddh@gmail.com'}, {'name': 'Devansh', 'number': '8085986511', 'email': 'devansh@outlook.com'}, {'name': 'Parth', 'number': '700070001', 'email': 'parth@gmail.com'}]\n",
            "Enter name: Sahil\n",
            "Enter number: 5632147890\n",
            "Enter email: sahil@goti.com\n",
            "[{'name': 'Aniruddh', 'number': '123456789', 'email': 'aniruddh@gmail.com'}, {'name': 'Devansh', 'number': '8085986511', 'email': 'devansh@outlook.com'}, {'name': 'Parth', 'number': '700070001', 'email': 'parth@gmail.com'}, {'name': 'Sahil', 'number': '5632147890', 'email': 'sahil@goti.com'}]\n",
            "Press 'a' - add contact, 'o' - open contact, 's' - search contact, 'q' - quit :- a\n",
            "Enter name: jairaj\n",
            "Enter number: jairaj@jaggi.com\n",
            "Enter email: 4569871230\n",
            "[{'name': 'Aniruddh', 'number': '123456789', 'email': 'aniruddh@gmail.com'}, {'name': 'Devansh', 'number': '8085986511', 'email': 'devansh@outlook.com'}, {'name': 'Parth', 'number': '700070001', 'email': 'parth@gmail.com'}, {'name': 'Sahil', 'number': '5632147890', 'email': 'sahil@goti.com'}, {'name': 'jairaj', 'number': 'jairaj@jaggi.com', 'email': '4569871230'}]\n",
            "Enter name: anand\n",
            "Enter number: 786453156\n",
            "Enter email: anand@gmail.com\n",
            "[{'name': 'Aniruddh', 'number': '123456789', 'email': 'aniruddh@gmail.com'}, {'name': 'Devansh', 'number': '8085986511', 'email': 'devansh@outlook.com'}, {'name': 'Parth', 'number': '700070001', 'email': 'parth@gmail.com'}, {'name': 'Sahil', 'number': '5632147890', 'email': 'sahil@goti.com'}, {'name': 'jairaj', 'number': 'jairaj@jaggi.com', 'email': '4569871230'}, {'name': 'anand', 'number': '786453156', 'email': 'anand@gmail.com'}]\n",
            "Press 'a' - add contact, 'o' - open contact, 's' - search contact, 'q' - quit :- q\n"
          ]
        }
      ]
    },
    {
      "cell_type": "markdown",
      "metadata": {
        "id": "hgc1UzuusQAf"
      },
      "source": [
        "## Using files\n",
        "\n",
        "One major problem with the above approach is \"persistent storage\". Every time you close this notebook, all the new contacts are lost. This happens because `contacts` is a python variable. Its lives inside python session. As soon as the session is killed/terminated, all the varibles are also deleted.\n",
        "\n",
        "To address this problem, we will have to use save the contacts in a disk. What better reason to use files? Instead of using *list of dictionary*, use file to save the contacts.\n",
        "\n",
        "Save every new contact in a new-line and use \" , \" to separate the contact fields. This is how the above contacts should look, when saved in a file.\n",
        "\n",
        "```text\n",
        "vivek, vivek@gmail.com, 9921668254\n",
        "ankur, ankur@gmail.com, 8806807004\n",
        "pranav, pranav@gmail.com, 987654321\n",
        "```\n",
        "\n",
        "You task is to make appropriate changes to the above code to use `contacts.txt` instead of using `contacts` list."
      ]
    },
    {
      "cell_type": "code",
      "source": [
        "mail = open('/contacts.txt')\n",
        "print(mail.read())\n",
        "mail.close()"
      ],
      "metadata": {
        "colab": {
          "base_uri": "https://localhost:8080/"
        },
        "id": "T1GVaCGpHhNM",
        "outputId": "869b46ac-8c3f-4491-a9cf-09df1f099a3c"
      },
      "execution_count": null,
      "outputs": [
        {
          "output_type": "stream",
          "name": "stdout",
          "text": [
            "vivek, vivek@gmail.com, 9921668254\n",
            "ankur, ankur@gmail.com, 8806807004\n",
            "pranav, pranav@gmail.com, 987654321\n"
          ]
        }
      ]
    },
    {
      "cell_type": "markdown",
      "metadata": {
        "id": "tpnBM-0OsQAf"
      },
      "source": [
        "## Using Regex\n",
        "\n",
        "Yet another problem with our app is \"lack of validation\". While creating a new contact, user is free to enter anything. But why is that a problem?\n",
        "\n",
        "**Input validation** is important to ensure only properly formed data is entering the workflow in an information system, preventing malformed data from persisting in the database and triggering malfunction of various downstream components. Input validation should happen as early as possible in the data flow, preferably as soon as the data is received. [source](https://cheatsheetseries.owasp.org/cheatsheets/Input_Validation_Cheat_Sheet.html)\n",
        "\n",
        "The above paragraph is the complete gist of Input validation. Read it again & ponder for a minute. Its an important concept when building customer facing applications. We would highly recommend you to Google and read more about it.  \n",
        "\n",
        "Use regular expression to validate user input (before you save it to the file). Implement the following:\n",
        "- `Name` should be all alphabets. \" \" should also be allowed.\n",
        "- For `email` refer regex chapter from course material.\n",
        "- `Number` should have 10 digits. Not less, not more. Also, not alphabets should be allowed.\n",
        "- Add a new field `DOB` to each contact. It should follow YYYY-MM-DD format. Then write a regular expression to validate it. Remember, date & month cannot be greater that 31 & 12, respectively.\n",
        "\n",
        "Can you think of any more validations?"
      ]
    },
    {
      "cell_type": "code",
      "source": [
        "# pattern\n",
        "\n",
        "# Name should be all alphabets. \" \" should also be allowed.\n",
        "[a-zA-Z]+\n",
        "\n",
        "#For email refer regex chapter from course material.\n",
        "\\w+@\\w+\\.\\w{3}\n",
        "\n",
        "# Number should have 10 digits. Not less, not more. Also, not alphabets should be allowed.\n",
        "\\d{10}"
      ],
      "metadata": {
        "id": "rPiXiQ1G-Nu6"
      },
      "execution_count": null,
      "outputs": []
    },
    {
      "cell_type": "markdown",
      "metadata": {
        "id": "8VYGCNGPsQAf"
      },
      "source": [
        "We really hope you had a wonderful time building this applications. This is how applications are developed in really life. You start with a set of basic functionalities and then you keep adding new features (like persistent storage & validation). As the application grows in size, you might encounter new problems to solve."
      ]
    }
  ],
  "metadata": {
    "kernelspec": {
      "display_name": "Python 3",
      "language": "python",
      "name": "python3"
    },
    "language_info": {
      "codemirror_mode": {
        "name": "ipython",
        "version": 3
      },
      "file_extension": ".py",
      "mimetype": "text/x-python",
      "name": "python",
      "nbconvert_exporter": "python",
      "pygments_lexer": "ipython3",
      "version": "3.7.4"
    },
    "toc": {
      "base_numbering": 1,
      "nav_menu": {},
      "number_sections": true,
      "sideBar": true,
      "skip_h1_title": false,
      "title_cell": "Table of Contents",
      "title_sidebar": "Contents",
      "toc_cell": false,
      "toc_position": {},
      "toc_section_display": true,
      "toc_window_display": false
    },
    "colab": {
      "provenance": []
    }
  },
  "nbformat": 4,
  "nbformat_minor": 0
}